{
 "cells": [
  {
   "cell_type": "code",
   "execution_count": 7,
   "metadata": {},
   "outputs": [],
   "source": [
    "file = \"/home/tarun/cuPAMI/datasets/Temporal_T10I4D100K.csv\"\n",
    "minSup = 10\n",
    "maxPer = 5000\n",
    "per_ratio = 0.8\n",
    "sep = \"\\t\"\n",
    "output_file = \"output.txt\""
   ]
  },
  {
   "cell_type": "code",
   "execution_count": 8,
   "metadata": {},
   "outputs": [
    {
     "name": "stdout",
     "output_type": "stream",
     "text": [
      "Total number of Partial Periodic Frequent Patterns: 80889\n",
      "Total Memory in USS: 646115328\n",
      "Total Memory in RSS 648126464\n",
      "Total ExecutionTime in ms: 22.893742561340332\n"
     ]
    }
   ],
   "source": [
    "from PAMI.partialPeriodicFrequentPattern.basic.GPFgrowth import GPFgrowth\n",
    "\n",
    "gpf = GPFgrowth(file, minSup, maxPer, per_ratio, sep)\n",
    "gpf.mine()\n",
    "gpf.printResults()"
   ]
  },
  {
   "cell_type": "code",
   "execution_count": null,
   "metadata": {},
   "outputs": [],
   "source": []
  }
 ],
 "metadata": {
  "kernelspec": {
   "display_name": "rapids-24.10",
   "language": "python",
   "name": "python3"
  },
  "language_info": {
   "codemirror_mode": {
    "name": "ipython",
    "version": 3
   },
   "file_extension": ".py",
   "mimetype": "text/x-python",
   "name": "python",
   "nbconvert_exporter": "python",
   "pygments_lexer": "ipython3",
   "version": "3.12.7"
  }
 },
 "nbformat": 4,
 "nbformat_minor": 2
}
